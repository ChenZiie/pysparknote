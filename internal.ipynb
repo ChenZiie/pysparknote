{
 "cells": [
  {
   "cell_type": "code",
   "execution_count": null,
   "metadata": {},
   "outputs": [],
   "source": [
    "#In order to use d.partitionBy(8, function), the key must be single integer"
   ]
  },
  {
   "cell_type": "markdown",
   "metadata": {
    "collapsed": true
   },
   "source": [
    "### Finding Prime Numbers"
   ]
  },
  {
   "cell_type": "code",
   "execution_count": 1,
   "metadata": {
    "scrolled": false
   },
   "outputs": [
    {
     "name": "stdout",
     "output_type": "stream",
     "text": [
      "[17, 97, 113, 193, 241, 257, 337, 353, 401, 433]\n"
     ]
    }
   ],
   "source": [
    "n = 500\n",
    "allnumbers = sc.parallelize(range(2, n), 8).cache()\n",
    "composite = allnumbers.flatMap(lambda x: range(x*2, n, x)).repartition(8)\n",
    "prime = allnumbers.subtract(composite)\n",
    "print(prime.take(10))"
   ]
  },
  {
   "cell_type": "code",
   "execution_count": 2,
   "metadata": {},
   "outputs": [
    {
     "name": "stdout",
     "output_type": "stream",
     "text": [
      "[62499, 62500, 62500, 62500, 62499, 62500, 62500, 62500]\n",
      "[5216986, 254759, 104166, 62499, 0, 0, 0, 0]\n",
      "[0, 5169, 1, 5219, 0, 5206, 0, 5189, 0, 5165, 0, 5199, 0, 5191, 0, 5199]\n",
      "[2]\n"
     ]
    }
   ],
   "source": [
    "# Find the number of elements in each parttion\n",
    "def partitionsize(it): \n",
    "    yield len(list(it))\n",
    "\n",
    "print(allnumbers.mapPartitions(partitionsize).collect())\n",
    "print(composite.mapPartitions(partitionsize).collect())\n",
    "print(prime.mapPartitions(partitionsize).collect())\n",
    "print(prime.glom().collect()[2][0:4])"
   ]
  },
  {
   "cell_type": "markdown",
   "metadata": {},
   "source": [
    "### Data Partitioning"
   ]
  },
  {
   "cell_type": "code",
   "execution_count": 4,
   "metadata": {
    "scrolled": true
   },
   "outputs": [
    {
     "name": "stdout",
     "output_type": "stream",
     "text": [
      "None\n",
      "None\n",
      "[[(1, 2)], [], [(8, 9), (96, 97), (240, 241), (400, 401), (800, 801), (4, 5), (12, 13)], []]\n",
      "[[(8, 9), (96, 97), (240, 241), (400, 401), (800, 801), (4, 5), (12, 13)], [(1, 2)], [], []]\n",
      "<pyspark.rdd.Partitioner object at 0x7f9ae8cc9438>\n",
      "<function portable_hash at 0x7f9ae96e4488>\n",
      "[[(8, 10), (96, 98), (240, 242), (400, 402), (800, 802), (4, 6), (12, 14)], [(1, 3)], [], []]\n",
      "None\n",
      "<function portable_hash at 0x7f9ae96e4488>\n",
      "[[(1, 2), (4, 5), (8, 9)], [(12, 13), (96, 97)], [(240, 241), (400, 401)], [(800, 801)]]\n",
      "<function RDD.sortByKey.<locals>.rangePartitioner at 0x7f9ae8c1e158>\n",
      "<function RDD.sortByKey.<locals>.rangePartitioner at 0x7f9ae8c1e158>\n"
     ]
    }
   ],
   "source": [
    "data = [8, 8, 1, 96, 240, 400, 1, 800, 4, 12]\n",
    "rdd = sc.parallelize(zip(data, data),4)\n",
    "print(rdd.partitioner)\n",
    "rdd = rdd.map(lambda t: (t[0], t[1]+1))\n",
    "print(rdd.partitioner)\n",
    "print(rdd.glom().collect())\n",
    "rdd = rdd.reduceByKey(lambda x,y: x+y)\n",
    "print(rdd.glom().collect())\n",
    "print(rdd.partitioner)\n",
    "print(rdd.partitioner.partitionFunc)\n",
    "\n",
    "rdd1 = rdd.map(lambda x: (x[0], x[1]+1))\n",
    "print(rdd1.glom().collect())\n",
    "print(rdd1.partitioner)\n",
    "\n",
    "rdd2 = rdd.mapValues(lambda x: x+1)\n",
    "print(rdd2.partitioner.partitionFunc)\n",
    "\n",
    "rdd = rdd.sortByKey()\n",
    "print(rdd.glom().collect())\n",
    "print(rdd.partitioner.partitionFunc)\n",
    "rdd3 = rdd.mapValues(lambda x: x+1)\n",
    "print(rdd3.partitioner.partitionFunc)"
   ]
  },
  {
   "cell_type": "code",
   "execution_count": 4,
   "metadata": {},
   "outputs": [
    {
     "name": "stdout",
     "output_type": "stream",
     "text": [
      "[625, 625, 625, 625, 625, 625, 625, 625]\n",
      "[2500, 0, 0, 0, 0, 0, 0, 0]\n",
      "[556, 278, 277, 278, 277, 278, 278, 278]\n",
      "[556, 278, 277, 278, 277, 278, 278, 278]\n"
     ]
    }
   ],
   "source": [
    "def partitionsize(it): yield len(list(it))\n",
    "    \n",
    "n = 40000\n",
    "\n",
    "def f(x):\n",
    "    return x % 9\n",
    "\n",
    "data1 = list(range(0, n, 16)) + list(range(0, n, 16))\n",
    "data2 = range(0, n, 8)\n",
    "rdd1 = sc.parallelize(zip(data1, data2), 8)\n",
    "print(rdd1.mapPartitions(partitionsize).collect())\n",
    "rdd2 = rdd1.reduceByKey(lambda x,y: x+y)\n",
    "print(rdd2.mapPartitions(partitionsize).collect())\n",
    "rdd3 = rdd2.partitionBy(8, f)\n",
    "print(rdd3.mapPartitions(partitionsize).collect())\n",
    "rdd4 = rdd1.reduceByKey(lambda x,y: x+y, partitionFunc=f)  #all bykey operation can do that\n",
    "print(rdd4.mapPartitions(partitionsize).collect())"
   ]
  },
  {
   "cell_type": "code",
   "execution_count": 25,
   "metadata": {},
   "outputs": [
    {
     "name": "stdout",
     "output_type": "stream",
     "text": [
      "None\n",
      "<function portable_hash at 0x7f2480c33488>\n",
      "<function portable_hash at 0x7f2480c33488>\n",
      "8\n",
      "<function portable_hash at 0x7f2480c33488>\n",
      "[(0, (0, 0)), (8, (8, 8)), (16, (16, 16)), (24, (24, 24))]\n"
     ]
    }
   ],
   "source": [
    "a = sc.parallelize(zip(range(10000), range(10000)), 8)\n",
    "b = sc.parallelize(zip(range(10000), range(10000)), 8)\n",
    "c = a.join(b)\n",
    "print(c.getNumPartitions())\n",
    "\n",
    "print(a.partitioner)\n",
    "a = a.reduceByKey(lambda x,y: x+y)\n",
    "print(a.partitioner.partitionFunc)\n",
    "b = b.reduceByKey(lambda x,y: x+y)\n",
    "print(b.partitioner.partitionFunc)\n",
    "c = a.join(b)\n",
    "print(c.getNumPartitions())\n",
    "print(c.partitioner.partitionFunc)\n",
    "print(c.glom().first()[0:4])"
   ]
  },
  {
   "cell_type": "markdown",
   "metadata": {},
   "source": [
    "### Partitioning in DataFrames"
   ]
  },
  {
   "cell_type": "code",
   "execution_count": 2,
   "metadata": {},
   "outputs": [
    {
     "name": "stdout",
     "output_type": "stream",
     "text": [
      "48\n",
      "[[], [], [], [], [Row(_1=1, _2=2)], [], [], [], [], [Row(_1=1, _2=2)], [], [], [], [], [Row(_1=1, _2=3)], [], [], [], [], [Row(_1=2, _2=4)], [], [], [], [Row(_1=2, _2=5)], [], [], [], [], [Row(_1=2, _2=3)], [], [], [], [], [Row(_1=3, _2=1)], [], [], [], [], [Row(_1=3, _2=1)], [], [], [], [], [Row(_1=3, _2=2)], [], [], [], [Row(_1=4, _2=3)]]\n"
     ]
    }
   ],
   "source": [
    "data1 = [1, 1, 1, 2, 2, 2, 3, 3, 3, 4]\n",
    "data2 = [2, 2, 3, 4, 5, 3, 1, 1, 2, 3]\n",
    "df = spark.createDataFrame(zip(data1, data2))\n",
    "print(df.rdd.getNumPartitions())\n",
    "print(df.rdd.glom().collect())"
   ]
  },
  {
   "cell_type": "code",
   "execution_count": 3,
   "metadata": {},
   "outputs": [
    {
     "name": "stdout",
     "output_type": "stream",
     "text": [
      "[[], [], [Row(_1=2, _2=4), Row(_1=2, _2=5), Row(_1=2, _2=3), Row(_1=4, _2=3)], [Row(_1=3, _2=1), Row(_1=3, _2=1), Row(_1=3, _2=2)], [], [Row(_1=1, _2=2), Row(_1=1, _2=2), Row(_1=1, _2=3)]]\n",
      "+---+---+-----------+--------------+\n",
      "| _1| _2|   hash(_1)|(hash(_1) % 6)|\n",
      "+---+---+-----------+--------------+\n",
      "|  2|  4| -797927272|            -4|\n",
      "|  2|  5| -797927272|            -4|\n",
      "|  2|  3| -797927272|            -4|\n",
      "|  4|  3| 1344313940|             2|\n",
      "|  3|  1|  519220707|             3|\n",
      "|  3|  1|  519220707|             3|\n",
      "|  3|  2|  519220707|             3|\n",
      "|  1|  2|-1712319331|            -1|\n",
      "|  1|  2|-1712319331|            -1|\n",
      "|  1|  3|-1712319331|            -1|\n",
      "+---+---+-----------+--------------+\n",
      "\n",
      "1\n"
     ]
    }
   ],
   "source": [
    "import pyspark.sql.functions\n",
    "\n",
    "df1 = df.repartition(6, df._1)\n",
    "print(df1.rdd.glom().collect())\n",
    "\n",
    "# SparkSQL uses MurmurHash to make generating adversarial data more difficult\n",
    "# Calling SparkSQL's hash function\n",
    "df1.select('*', pyspark.sql.functions.hash(df1._1), pyspark.sql.functions.hash(df1._1) % 6).show()\n",
    "\n",
    "# Calling Python's hash function\n",
    "print(hash(1))"
   ]
  },
  {
   "cell_type": "code",
   "execution_count": 28,
   "metadata": {
    "scrolled": true
   },
   "outputs": [
    {
     "name": "stdout",
     "output_type": "stream",
     "text": [
      "+-------+--------+\n",
      "|waybill|customer|\n",
      "+-------+--------+\n",
      "|     29|      66|\n",
      "|    474|      90|\n",
      "|     29|      16|\n",
      "|    418|      27|\n",
      "|    541|      59|\n",
      "|    558|      70|\n",
      "|    418|      67|\n",
      "|    730|       8|\n",
      "|    278|      33|\n",
      "|    367|      18|\n",
      "|    278|      71|\n",
      "|    278|       9|\n",
      "|    442|      80|\n",
      "|    705|      65|\n",
      "|    243|      97|\n",
      "|    705|      67|\n",
      "|    442|      55|\n",
      "|    243|      93|\n",
      "|    367|      58|\n",
      "|    296|      41|\n",
      "+-------+--------+\n",
      "only showing top 20 rows\n",
      "\n",
      "1000\n",
      "+--------+-----+\n",
      "|customer|phone|\n",
      "+--------+-----+\n",
      "|       0|    0|\n",
      "|       1|    1|\n",
      "|       2|    2|\n",
      "|       3|    3|\n",
      "|       4|    4|\n",
      "|       5|    5|\n",
      "|       6|    6|\n",
      "|       7|    7|\n",
      "|       8|    8|\n",
      "|       9|    9|\n",
      "|      10|   10|\n",
      "|      11|   11|\n",
      "|      12|   12|\n",
      "|      13|   13|\n",
      "|      14|   14|\n",
      "|      15|   15|\n",
      "|      16|   16|\n",
      "|      17|   17|\n",
      "|      18|   18|\n",
      "|      19|   19|\n",
      "+--------+-----+\n",
      "only showing top 20 rows\n",
      "\n",
      "100\n",
      "+-------+------------+\n",
      "|waybill|max(version)|\n",
      "+-------+------------+\n",
      "|     26|           9|\n",
      "|    418|           2|\n",
      "|    558|           6|\n",
      "|    191|           7|\n",
      "|    293|           6|\n",
      "|    938|           1|\n",
      "|    222|           4|\n",
      "|    367|           4|\n",
      "|    243|           7|\n",
      "|    720|           6|\n",
      "|    442|           7|\n",
      "|     19|           5|\n",
      "|    926|           7|\n",
      "|    296|           8|\n",
      "|    287|           5|\n",
      "|      0|           3|\n",
      "|    415|           3|\n",
      "|    348|           3|\n",
      "|    502|           4|\n",
      "|    299|           1|\n",
      "+-------+------------+\n",
      "only showing top 20 rows\n",
      "\n",
      "622\n"
     ]
    }
   ],
   "source": [
    "# A 'real' example from SF Express\n",
    "# Prepare three relational tables\n",
    "\n",
    "from pyspark.sql.functions import *\n",
    "\n",
    "num_waybills = 1000\n",
    "num_customers = 100\n",
    "\n",
    "rdd = sc.parallelize((i, ) for i in range(num_waybills))\n",
    "waybills = spark.createDataFrame(rdd).select(floor(rand()*num_waybills).alias('waybill'), \n",
    "                                             floor(rand()*num_customers).alias('customer')) \\\n",
    "                .repartition('waybill')\\\n",
    "                .cache()\n",
    "waybills.show()\n",
    "print(waybills.count())\n",
    "\n",
    "rdd = sc.parallelize((i, i) for i in range(num_customers))\n",
    "customers = spark.createDataFrame(rdd, ['customer', 'phone']).cache()\n",
    "customers.show()\n",
    "print(customers.count())\n",
    "\n",
    "rdd = sc.parallelize((i, ) for i in range(num_waybills))\n",
    "waybill_status = spark.createDataFrame(rdd).select(floor(rand()*num_waybills).alias('waybill'), \n",
    "                                                   floor(rand()*10).alias('version')) \\\n",
    "                      .groupBy('waybill').max('version').cache()\n",
    "waybill_status.show()\n",
    "print(waybill_status.count())"
   ]
  },
  {
   "cell_type": "code",
   "execution_count": 29,
   "metadata": {},
   "outputs": [
    {
     "name": "stdout",
     "output_type": "stream",
     "text": [
      "+-------+--------+-----+------------+\n",
      "|waybill|customer|phone|max(version)|\n",
      "+-------+--------+-----+------------+\n",
      "|    418|      27|   27|           2|\n",
      "|    558|      70|   70|           6|\n",
      "|    418|      67|   67|           2|\n",
      "|    367|      18|   18|           4|\n",
      "|    442|      80|   80|           7|\n",
      "|    243|      97|   97|           7|\n",
      "|    442|      55|   55|           7|\n",
      "|    243|      93|   93|           7|\n",
      "|    367|      58|   58|           4|\n",
      "|    296|      41|   41|           8|\n",
      "|    926|      56|   56|           7|\n",
      "|     19|      16|   16|           5|\n",
      "|    926|      83|   83|           7|\n",
      "|    926|       9|    9|           7|\n",
      "|     19|      19|   19|           5|\n",
      "|      0|      99|   99|           3|\n",
      "|    348|      20|   20|           3|\n",
      "|      0|      60|   60|           3|\n",
      "|      0|      35|   35|           3|\n",
      "|    287|      81|   81|           5|\n",
      "+-------+--------+-----+------------+\n",
      "only showing top 20 rows\n",
      "\n"
     ]
    }
   ],
   "source": [
    "# We want to join 3 tables together.\n",
    "# Knowing how each table is partitioned helps optimize the join order.\n",
    "\n",
    "# waybills.join(customers, 'customer').join(waybill_status, 'waybill').show()\n",
    "waybills.join(waybill_status, 'waybill').join(customers, 'customer').show()"
   ]
  },
  {
   "cell_type": "markdown",
   "metadata": {},
   "source": [
    "### Threading"
   ]
  },
  {
   "cell_type": "code",
   "execution_count": 31,
   "metadata": {},
   "outputs": [
    {
     "name": "stdout",
     "output_type": "stream",
     "text": [
      "Worker 1 reports: Pi is roughly 3.1421246666666667\n",
      "Worker 3 reports: Pi is roughly 3.142332\n",
      "Worker 4 reports: Pi is roughly 3.141875333333333\n",
      "Worker 2 reports: Pi is roughly 3.142312\n",
      "Worker 0 reports: Pi is roughly 3.1423186666666667\n"
     ]
    }
   ],
   "source": [
    "import threading\n",
    "import random\n",
    "\n",
    "partitions = 12\n",
    "n = 500000 * partitions\n",
    "\n",
    "# use different seeds in different threads and different partitions\n",
    "# a bit ugly, since mapPartitionsWithIndex takes a function with only index\n",
    "# and it as parameters\n",
    "def f1(index, it):\n",
    "    random.seed(index + 987231)\n",
    "    for i in it:\n",
    "        x = random.random() * 2 - 1\n",
    "        y = random.random() * 2 - 1\n",
    "        yield 1 if x ** 2 + y ** 2 < 1 else 0\n",
    "\n",
    "def f2(index, it):\n",
    "    random.seed(index + 987232)\n",
    "    for i in it:\n",
    "        x = random.random() * 2 - 1\n",
    "        y = random.random() * 2 - 1\n",
    "        yield 1 if x ** 2 + y ** 2 < 1 else 0\n",
    "\n",
    "def f3(index, it):\n",
    "    random.seed(index + 987233)\n",
    "    for i in it:\n",
    "        x = random.random() * 2 - 1\n",
    "        y = random.random() * 2 - 1\n",
    "        yield 1 if x ** 2 + y ** 2 < 1 else 0\n",
    "    \n",
    "def f4(index, it):\n",
    "    random.seed(index + 987234)\n",
    "    for i in it:\n",
    "        x = random.random() * 2 - 1\n",
    "        y = random.random() * 2 - 1\n",
    "        yield 1 if x ** 2 + y ** 2 < 1 else 0\n",
    "    \n",
    "def f5(index, it):\n",
    "    random.seed(index + 987245)\n",
    "    for i in it:\n",
    "        x = random.random() * 2 - 1\n",
    "        y = random.random() * 2 - 1\n",
    "        yield 1 if x ** 2 + y ** 2 < 1 else 0\n",
    "\n",
    "f = [f1, f2, f3, f4, f5]\n",
    "    \n",
    "# the function executed in each thread/job\n",
    "def dojob(i):\n",
    "    count = sc.parallelize(range(1, n + 1), partitions) \\\n",
    "              .mapPartitionsWithIndex(f[i]).reduce(lambda a,b: a+b)\n",
    "    print(\"Worker\", i, \"reports: Pi is roughly\", 4.0 * count / n)\n",
    "\n",
    "# create and execute the threads\n",
    "threads = []\n",
    "for i in range(5):\n",
    "    t = threading.Thread(target=dojob, args=(i,))\n",
    "    threads += [t]\n",
    "    t.start()\n",
    "\n",
    "# wait for all threads to complete\n",
    "for t in threads:\n",
    "    t.join()    "
   ]
  },
  {
   "cell_type": "code",
   "execution_count": null,
   "metadata": {},
   "outputs": [],
   "source": []
  },
  {
   "cell_type": "code",
   "execution_count": null,
   "metadata": {
    "collapsed": true
   },
   "outputs": [],
   "source": []
  }
 ],
 "metadata": {
  "kernelspec": {
   "display_name": "Python 3",
   "language": "python",
   "name": "python3"
  },
  "language_info": {
   "codemirror_mode": {
    "name": "ipython",
    "version": 3
   },
   "file_extension": ".py",
   "mimetype": "text/x-python",
   "name": "python",
   "nbconvert_exporter": "python",
   "pygments_lexer": "ipython3",
   "version": "3.8.3"
  }
 },
 "nbformat": 4,
 "nbformat_minor": 1
}
